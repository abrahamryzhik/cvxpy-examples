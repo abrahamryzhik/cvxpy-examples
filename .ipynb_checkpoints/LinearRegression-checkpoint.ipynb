{
 "cells": [
  {
   "cell_type": "markdown",
   "metadata": {},
   "source": [
    "# Linear Regression"
   ]
  },
  {
   "cell_type": "markdown",
   "metadata": {},
   "source": [
    "A regression model is given by the function $\\hat{y}_i= \\beta^T x_i + v$ where $x$ contains the input, $\\hat{y}$ is the prediction, $\\beta$ is a weight vector, and $v$ is an offset."
   ]
  },
  {
   "cell_type": "markdown",
   "metadata": {},
   "source": [
    "In least-squares linear regression, we want to minimize the cost $\\Vert y_i - \\hat{y}_i \\Vert_2^2$ with respect to the parameters $\\beta$ and $v$."
   ]
  },
  {
   "cell_type": "markdown",
   "metadata": {},
   "source": [
    "## Example"
   ]
  },
  {
   "cell_type": "markdown",
   "metadata": {},
   "source": [
    "This example will show how to implement a linear regression model usinging sci-kit learn. For this example, we are going to have a one-dimensional input spread uniformly from 0 to 10, and train our regression model on an output of values perturbed sligthtly from a line $y = mx + b$."
   ]
  },
  {
   "cell_type": "markdown",
   "metadata": {},
   "source": [
    "First, we import the packages we need"
   ]
  },
  {
   "cell_type": "code",
   "execution_count": 79,
   "metadata": {},
   "outputs": [],
   "source": [
    "import matplotlib.pyplot as plt\n",
    "import numpy as np\n",
    "import cvxpy as cp"
   ]
  },
  {
   "cell_type": "markdown",
   "metadata": {},
   "source": [
    "Next, we define an objective function which is just the sum of a least squares loss function."
   ]
  },
  {
   "cell_type": "code",
   "execution_count": 90,
   "metadata": {
    "collapsed": true
   },
   "outputs": [],
   "source": [
    "def objective_fn(X, Y, beta, intercept):\n",
    "    \n",
    "    print X.shape\n",
    "    print Y.shape\n",
    "    print beta.shape\n",
    "    return cp.pnorm(cp.matmul(X, beta) + intercept - Y, p=2)**2\n",
    "\n",
    "def mse(X, Y, beta, intercept):\n",
    "    return (1.0 / X.shape[0]) * objective_fn(X, Y, beta, intercept).value"
   ]
  },
  {
   "cell_type": "markdown",
   "metadata": {},
   "source": [
    "Next we create our dataset. For this example to make it easier to visualize at the end, we will stick with a 1-D input and small noise, but this works too for larger dimensional inputs by changing the value of n."
   ]
  },
  {
   "cell_type": "code",
   "execution_count": 91,
   "metadata": {
    "collapsed": true
   },
   "outputs": [],
   "source": [
    "def generate_data(m=100, n=20, sigma=5):\n",
    "    #Generates data matrix X and observations Y\n",
    "    np.random.seed(1)\n",
    "    beta_star = np.random.randn(n)\n",
    "    intercept_star = 5*np.random.randn()\n",
    "    # Generate an ill-conditioned data matrix\n",
    "    X = np.random.randn(m, n)\n",
    "    # Corrupt the observations with additive Gaussian noise\n",
    "    Y = X.dot(beta_star) + intercept_star + np.random.normal(0, sigma, size=m)\n",
    "    return X, Y\n",
    "\n",
    "m = 100\n",
    "n = 1\n",
    "sigma = .3\n",
    "\n",
    "X, Y = generate_data(m, n, sigma)\n",
    "X_train = X[:50, :]\n",
    "Y_train = Y[:50]\n",
    "X_test = X[50:, :]\n",
    "Y_test = Y[50:]"
   ]
  },
  {
   "cell_type": "markdown",
   "metadata": {},
   "source": [
    "Next, we fit our model using CVXPY"
   ]
  },
  {
   "cell_type": "code",
   "execution_count": 92,
   "metadata": {},
   "outputs": [
    {
     "name": "stdout",
     "output_type": "stream",
     "text": [
      "(50, 1)\n",
      "(50,)\n",
      "(1,)\n",
      "(50, 1)\n",
      "(50,)\n",
      "(1,)\n",
      "(50, 1)\n",
      "(50,)\n",
      "(1,)\n"
     ]
    }
   ],
   "source": [
    "beta = cp.Variable(n)\n",
    "intercept = cp.Variable()\n",
    "problem = cp.Problem(cp.Minimize(objective_fn(X_train, Y_train, beta, intercept)))\n",
    "\n",
    "problem.solve()\n",
    "\n",
    "train_error = mse(X_train, Y_train, beta, intercept)\n",
    "test_error = mse(X_test, Y_test, beta, intercept)\n",
    "beta_value = beta.value\n"
   ]
  },
  {
   "cell_type": "markdown",
   "metadata": {},
   "source": [
    "Next, we graph our results, the blue line representing our model and the red dots representing the actual input."
   ]
  },
  {
   "cell_type": "code",
   "execution_count": 83,
   "metadata": {},
   "outputs": [
    {
     "data": {
      "image/png": "[encoded data removed]",
      "text/plain": [
       "<matplotlib.figure.Figure at 0x108694510>"
      ]
     },
     "metadata": {},
     "output_type": "display_data"
    }
   ],
   "source": [
    "%matplotlib inline\n",
    "\n",
    "plt.plot([-3,3],[-3*beta_value[0] + intercept.value,3*beta_value[0] + intercept.value])\n",
    "plt.scatter(X_test,Y_test, color = 'red')\n",
    "plt.show()"
   ]
  },
  {
   "cell_type": "code",
   "execution_count": null,
   "metadata": {
    "collapsed": true
   },
   "outputs": [],
   "source": []
  }
 ],
 "metadata": {
  "kernelspec": {
   "display_name": "Python 2",
   "language": "python",
   "name": "python2"
  },
  "language_info": {
   "codemirror_mode": {
    "name": "ipython",
    "version": 2
   },
   "file_extension": ".py",
   "mimetype": "text/x-python",
   "name": "python",
   "nbconvert_exporter": "python",
   "pygments_lexer": "ipython2",
   "version": "2.7.14"
  }
 },
 "nbformat": 4,
 "nbformat_minor": 1
}

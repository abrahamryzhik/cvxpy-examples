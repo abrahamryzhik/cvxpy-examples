{
 "cells": [
  {
   "cell_type": "markdown",
   "metadata": {},
   "source": [
    "# Logistic Regression"
   ]
  },
  {
   "cell_type": "markdown",
   "metadata": {},
   "source": [
    "In logistic regression, we want to predict the value of a random variable $y$ that can take values of 0 or 1 with propability $p$ that $y=1$ and probability $1-p$ that $y=0$."
   ]
  },
  {
   "cell_type": "markdown",
   "metadata": {},
   "source": [
    "The logistic model has the form $p = \\frac{\\exp(a^Tu+b)}{1+\\exp(a^Tu+b)}$ and gives the probabilty that $y=1$ given an input $u$ and parameters $a$ and $b$."
   ]
  },
  {
   "cell_type": "markdown",
   "metadata": {},
   "source": [
    "Suppose we are given some data $u_1, ..., u_m \\in \\mathbb{R}^n$ which we have arranged such that for $u_1 ... u_q$, $y=1$, and for $u_{q+1} ... u_m$, $y=0$. We want to minimize the convex function $L(a,b) = -\\sum_{i=1}^q \\log(p_i) - \\sum_{i=q+1}^m \\log(1-p_i)$, where each $p_i$ is given by the result of the logistic model on $u_i$. This function is equivalent to $$L(a,b) = -\\sum_{i=1}^q (a^Tu_i + b) + \\sum_{i=1}^m \\log(1+\\exp(a^Tu_i + b))$$"
   ]
  },
  {
   "cell_type": "markdown",
   "metadata": {},
   "source": [
    "## Example"
   ]
  },
  {
   "cell_type": "markdown",
   "metadata": {},
   "source": [
    "In this example, we will show how to fit a regression model on a dataset using CVXPY."
   ]
  },
  {
   "cell_type": "markdown",
   "metadata": {},
   "source": [
    "First, we import all the packages we will need."
   ]
  },
  {
   "cell_type": "code",
   "execution_count": 2,
   "metadata": {
    "scrolled": true
   },
   "outputs": [
    {
     "name": "stderr",
     "output_type": "stream",
     "text": [
      "/Users/Abraham/anaconda2/lib/python2.7/site-packages/matplotlib/font_manager.py:273: UserWarning: Matplotlib is building the font cache using fc-list. This may take a moment.\n",
      "  warnings.warn('Matplotlib is building the font cache using fc-list. This may take a moment.')\n"
     ]
    }
   ],
   "source": [
    "import matplotlib.pyplot as plt\n",
    "import numpy as np\n",
    "import cvxpy as cp"
   ]
  },
  {
   "cell_type": "markdown",
   "metadata": {},
   "source": [
    "Next, we generate to fit our logistic regression model to. For this example, we generate random data for our output and set our output to be 1 or 0 based on if the input is positive or negative with some noise. Note: in this example, the input is one-dimensional, and for higher dimensional data this will not be a good method of separating data into two groups."
   ]
  },
  {
   "cell_type": "code",
   "execution_count": 33,
   "metadata": {},
   "outputs": [],
   "source": [
    "def generate_data(m = 100, n=1, max_dom=1, min_dom=-1, noise=.3):\n",
    "    X = np.random.normal(0, max_dom, size=(m,n))\n",
    "    Y = (X > 0).astype(np.float)\n",
    "    \n",
    "    X += noise * np.random.normal(size=(m,n))\n",
    "    \n",
    "    c = np.column_stack((X,Y))\n",
    "    c = c[c[:,n].argsort()]\n",
    "    X = c[:,:n]\n",
    "    X = np.reshape(X, (m,n))\n",
    "    Y = c[:,1]\n",
    "    \n",
    "    q = np.where(Y[:-1] != Y[1:])[0][0] + 1\n",
    "    return X, Y, q\n",
    "\n",
    "    \n",
    "m = 100\n",
    "n = 1\n",
    "\n",
    "max_dom = 5.\n",
    "min_dom = -5.\n",
    "noise = 1\n",
    "\n",
    "X,Y,q = generate_data(m, n, max_dom, min_dom, noise)"
   ]
  },
  {
   "cell_type": "markdown",
   "metadata": {},
   "source": [
    "Next, we set up our CVXPY problem and solve it. We then graph our raw data points along with the regression model that was generated to fit the data."
   ]
  },
  {
   "cell_type": "code",
   "execution_count": 40,
   "metadata": {},
   "outputs": [
    {
     "data": {
      "image/png": "[encoded data removed]",
      "text/plain": [
       "<matplotlib.figure.Figure at 0x10b1f5610>"
      ]
     },
     "metadata": {},
     "output_type": "display_data"
    }
   ],
   "source": [
    "a = cp.Variable(n)\n",
    "b = cp.Variable()\n",
    "\n",
    "cost = -cp.sum(X[q:]*a + b) + cp.sum(cp.logistic(X*a + b))\n",
    "\n",
    "problem = cp.Problem(cp.Minimize(cost))\n",
    "\n",
    "problem.solve()\n",
    "\n",
    "\n",
    "a_val = a.value[0]\n",
    "b_val = b.value\n",
    "\n",
    "t = np.arange(X.min(), X.max(), 0.2)\n",
    "plt.plot(t, np.exp(a_val*t+b_val)/(1+np.exp(a_val*t+b_val)), color = 'red', label = \"Regression Model\")\n",
    "plt.scatter(X,Y, label = \"Raw Data\")\n",
    "plt.legend(loc=\"center right\")\n",
    "plt.xlabel(\"Input\")\n",
    "plt.ylabel(\"Binary Value or Model Prediction\")\n",
    "plt.title(\"Logistic Regression Model Fit to Data\")\n",
    "plt.show()"
   ]
  },
  {
   "cell_type": "code",
   "execution_count": null,
   "metadata": {
    "collapsed": true
   },
   "outputs": [],
   "source": []
  },
  {
   "cell_type": "code",
   "execution_count": null,
   "metadata": {
    "collapsed": true
   },
   "outputs": [],
   "source": []
  }
 ],
 "metadata": {
  "kernelspec": {
   "display_name": "Python 2",
   "language": "python",
   "name": "python2"
  },
  "language_info": {
   "codemirror_mode": {
    "name": "ipython",
    "version": 2
   },
   "file_extension": ".py",
   "mimetype": "text/x-python",
   "name": "python",
   "nbconvert_exporter": "python",
   "pygments_lexer": "ipython2",
   "version": "2.7.14"
  }
 },
 "nbformat": 4,
 "nbformat_minor": 1
}

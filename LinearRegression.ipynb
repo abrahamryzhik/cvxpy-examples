{
 "cells": [
  {
   "cell_type": "markdown",
   "metadata": {},
   "source": [
    "# Linear Regression"
   ]
  },
  {
   "cell_type": "markdown",
   "metadata": {},
   "source": [
    "A regression model is given by the function $\\hat{y}_i= \\beta^T x_i + v$ where $x$ contains the input, $\\hat{y}$ is the prediction, $\\beta$ is a weight vector, and $v$ is an offset."
   ]
  },
  {
   "cell_type": "markdown",
   "metadata": {},
   "source": [
    "In linear regression, we want to minimize the cost $\\sum_{i=1}^n (y_i - \\hat{y}_i)^2$, which can be expressed as a least-squares optimization problem to minimize $\\|X\\beta + V  - Y\\|^2_2$."
   ]
  },
  {
   "cell_type": "markdown",
   "metadata": {},
   "source": [
    "## Example"
   ]
  },
  {
   "cell_type": "markdown",
   "metadata": {},
   "source": [
    "This example will show how to implement a linear regression model usinging sci-kit learn. For this example, we are going to have a one-dimensional input spread uniformly from 0 to 10, and train our regression model on an output of values perturbed sligthtly from a line $y = mx + b$."
   ]
  },
  {
   "cell_type": "markdown",
   "metadata": {},
   "source": [
    "First, we import the packages we need"
   ]
  },
  {
   "cell_type": "code",
   "execution_count": 30,
   "metadata": {},
   "outputs": [],
   "source": [
    "import matplotlib.pyplot as plt\n",
    "import numpy as np\n",
    "import cvxpy as cp"
   ]
  },
  {
   "cell_type": "markdown",
   "metadata": {},
   "source": [
    "Next we create our dataset. For this example to make it easier to visualize at the end, we will stick with a 1-D input and small noise. To change the number of points, the dimension, or the noise, change m, n, and sigma respectively."
   ]
  },
  {
   "cell_type": "code",
   "execution_count": 31,
   "metadata": {},
   "outputs": [],
   "source": [
    "def generate_data(m=100, n=20, sigma=5):\n",
    "    #Generates data matrix X and observations Y\n",
    "    np.random.seed(1)\n",
    "    beta_star = np.random.randn(n)\n",
    "    intercept_star = np.random.randn()\n",
    "    # Generate an ill-conditioned data matrix\n",
    "    X = np.random.randn(m, n)\n",
    "    # Corrupt the observations with additive Gaussian noise\n",
    "    Y = X.dot(beta_star) + intercept_star + np.random.normal(0, sigma, size=m)\n",
    "    return X, Y\n",
    "\n",
    "m = 100\n",
    "n = 1\n",
    "sigma = .3\n",
    "\n",
    "X, Y = generate_data(m, n, sigma)\n",
    "X_train = X[:50, :]\n",
    "Y_train = Y[:50]\n",
    "X_test = X[50:, :]\n",
    "Y_test = Y[50:]"
   ]
  },
  {
   "cell_type": "markdown",
   "metadata": {},
   "source": [
    "Next, we fit our model using CVXPY"
   ]
  },
  {
   "cell_type": "code",
   "execution_count": 32,
   "metadata": {},
   "outputs": [],
   "source": [
    "beta = cp.Variable(n)\n",
    "intercept = cp.Variable()\n",
    "\n",
    "cost = cp.pnorm(cp.matmul(X_train, beta) + intercept - Y_train, p=2)**2\n",
    "\n",
    "problem = cp.Problem(cp.Minimize(cost))\n",
    "\n",
    "problem.solve()\n",
    "\n",
    "beta_value = beta.value"
   ]
  },
  {
   "cell_type": "markdown",
   "metadata": {},
   "source": [
    "Next, we graph our results, the blue line representing our model and the red dots representing the actual input."
   ]
  },
  {
   "cell_type": "code",
   "execution_count": 33,
   "metadata": {},
   "outputs": [
    {
     "data": {
      "image/png": "[encoded data removed]",
      "text/plain": [
       "<matplotlib.figure.Figure at 0x117024410>"
      ]
     },
     "metadata": {},
     "output_type": "display_data"
    }
   ],
   "source": [
    "%matplotlib inline\n",
    "\n",
    "plt.plot([-3,3],[-3*beta_value[0] + intercept.value,3*beta_value[0] + intercept.value], label='Model')\n",
    "plt.scatter(X_test,Y_test, color = 'red', label='Data Points')\n",
    "plt.legend(loc='upper center')\n",
    "plt.xlabel(\"Input Data\")\n",
    "plt.ylabel(\"Output\")\n",
    "plt.title(\"Linear Regression Model Fit to Data\")\n",
    "plt.show()"
   ]
  },
  {
   "cell_type": "code",
   "execution_count": null,
   "metadata": {
    "collapsed": true
   },
   "outputs": [],
   "source": []
  }
 ],
 "metadata": {
  "kernelspec": {
   "display_name": "Python 2",
   "language": "python",
   "name": "python2"
  },
  "language_info": {
   "codemirror_mode": {
    "name": "ipython",
    "version": 2
   },
   "file_extension": ".py",
   "mimetype": "text/x-python",
   "name": "python",
   "nbconvert_exporter": "python",
   "pygments_lexer": "ipython2",
   "version": "2.7.14"
  }
 },
 "nbformat": 4,
 "nbformat_minor": 1
}

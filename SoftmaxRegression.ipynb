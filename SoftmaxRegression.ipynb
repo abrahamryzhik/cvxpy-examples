{
 "cells": [
  {
   "cell_type": "markdown",
   "metadata": {},
   "source": [
    "# Softmax Regression"
   ]
  },
  {
   "cell_type": "markdown",
   "metadata": {},
   "source": [
    "In softmax regression, we want to predict the category of an input. "
   ]
  },
  {
   "cell_type": "markdown",
   "metadata": {},
   "source": [
    "This is a generalization of the logistic regression model, and we will train a model to classify $K$ categories that looks like the following: $$p = \\frac{1}{\\sum_{j=1}^K \\exp(a^{(j)T}x)} \\begin{bmatrix} \\exp(a^{(1)T}x) \\\\ \\exp(a^{(2)T}x) \\\\ \\vdots \\\\ \\exp(a^{(K)T}x) \\end{bmatrix}$$"
   ]
  },
  {
   "cell_type": "markdown",
   "metadata": {},
   "source": [
    "The cost function that we are going to optimize looks like the following: $$J(a) = -\\left[\\sum_{i=1}^m\\sum_{k=1}^K 1 \\left\\{ y^{(i)} = k \\right\\} \\log \\frac{\\exp(a^{(k)T}x^{(i)})}{\\sum_{j=1}^K \\exp(a^{(j)T}x^{(i)})} \\right]$$ where the notation $1\\left\\{ y^{(i)} = k \\right\\}$ means that it is $1$ when $y^{(i)} = k$ and $0$ otherwise."
   ]
  },
  {
   "cell_type": "markdown",
   "metadata": {},
   "source": [
    "## Example"
   ]
  },
  {
   "cell_type": "markdown",
   "metadata": {},
   "source": [
    "In the following example, we will show how to perform a softmax regression using CVXPY."
   ]
  },
  {
   "cell_type": "markdown",
   "metadata": {},
   "source": [
    "First, we import all the packages that we need"
   ]
  },
  {
   "cell_type": "code",
   "execution_count": 2,
   "metadata": {},
   "outputs": [
    {
     "name": "stderr",
     "output_type": "stream",
     "text": [
      "/Users/Abraham/anaconda2/lib/python2.7/site-packages/matplotlib/font_manager.py:273: UserWarning: Matplotlib is building the font cache using fc-list. This may take a moment.\n",
      "  warnings.warn('Matplotlib is building the font cache using fc-list. This may take a moment.')\n"
     ]
    }
   ],
   "source": [
    "import matplotlib.pyplot as plt\n",
    "import numpy as np\n",
    "import cvxpy as cp"
   ]
  },
  {
   "cell_type": "markdown",
   "metadata": {},
   "source": [
    "Next, we define the objective function that we are going to optimize"
   ]
  },
  {
   "cell_type": "code",
   "execution_count": 3,
   "metadata": {},
   "outputs": [],
   "source": [
    "def objective_fn(X, Y, A):\n",
    "    \n",
    "    mat = A*X.T - cp.log_sum_exp(A*X.T)\n",
    "    \n",
    "    return -cp.sum(cp.multiply(Y,mat.T))"
   ]
  },
  {
   "cell_type": "markdown",
   "metadata": {},
   "source": [
    "Next, we create the data that we are going to fit with our regression model"
   ]
  },
  {
   "cell_type": "code",
   "execution_count": 69,
   "metadata": {},
   "outputs": [
    {
     "data": {
      "image/png": "[encoded data removed]",
      "text/plain": [
       "<matplotlib.figure.Figure at 0x106611fd0>"
      ]
     },
     "metadata": {},
     "output_type": "display_data"
    }
   ],
   "source": [
    "def generate_data(m=10, n=2, num_pts=5, noise=.01, scale = 1):\n",
    "    centers = np.random.randn(m,1,n)*scale\n",
    "    \n",
    "    points = centers + noise*np.random.randn(m,num_pts,n)\n",
    "    \n",
    "    points = points.reshape(m*num_pts, n)\n",
    "    \n",
    "    labels = np.zeros((m, num_pts))\n",
    "    \n",
    "    for i in range(m):\n",
    "        labels[i,:] += i\n",
    "    \n",
    "    labels = labels.flatten()\n",
    "    labels = labels.astype(int)\n",
    "    labels_oh = np.zeros((m*num_pts, m))\n",
    "    labels_oh[np.arange(m*num_pts), labels] = 1\n",
    "    \n",
    "    return points, labels_oh\n",
    "\n",
    "m = 5 #number of categories\n",
    "\n",
    "n = 4 #dimension of input points\n",
    "\n",
    "num_pts = 50 #number of points per category\n",
    "\n",
    "noise = 0.1\n",
    "    \n",
    "X,Y = generate_data(m, n, num_pts, noise)\n",
    "\n",
    "Z = np.column_stack((X,Y))\n",
    "\n",
    "np.random.shuffle(Z)\n",
    "X = Z[:,:n]\n",
    "Y = Z[:,n:]\n",
    "\n",
    "split_idx = int(.7*X.shape[0])\n",
    "\n",
    "X_train = X[:split_idx]\n",
    "X_test = X[split_idx:]\n",
    "Y_train = Y[:split_idx]\n",
    "Y_test = Y[split_idx:]\n",
    "\n",
    "%matplotlib inline\n",
    "plt.scatter(X[:,0], X[:,1])\n",
    "plt.show()"
   ]
  },
  {
   "cell_type": "code",
   "execution_count": 70,
   "metadata": {},
   "outputs": [
    {
     "name": "stdout",
     "output_type": "stream",
     "text": [
      "1.0\n"
     ]
    }
   ],
   "source": [
    "A = cp.Variable((m,n))\n",
    "\n",
    "problem = cp.Problem(cp.Minimize(objective_fn(X_train, Y_train, A)))\n",
    "\n",
    "problem.solve()\n",
    "    \n",
    "num_correct = 0\n",
    "for i in xrange(Y_test.shape[0]):\n",
    "    prediction = np.exp(np.dot(A.value, X_test[i]))/np.sum(np.exp(np.dot(A.value, X_test[i])))\n",
    "    prediction[np.where(prediction==np.max(prediction))] = 1\n",
    "    prediction[np.where(prediction!=np.max(prediction))] = 0\n",
    "    #print prediction\n",
    "    #print Y_test[i]\n",
    "    if (prediction == Y_test[i]).all():\n",
    "        num_correct = num_correct + 1\n",
    "        \n",
    "        \n",
    "print num_correct / float(Y_test.shape[0])"
   ]
  },
  {
   "cell_type": "code",
   "execution_count": null,
   "metadata": {},
   "outputs": [],
   "source": []
  }
 ],
 "metadata": {
  "kernelspec": {
   "display_name": "Python 2",
   "language": "python",
   "name": "python2"
  },
  "language_info": {
   "codemirror_mode": {
    "name": "ipython",
    "version": 2
   },
   "file_extension": ".py",
   "mimetype": "text/x-python",
   "name": "python",
   "nbconvert_exporter": "python",
   "pygments_lexer": "ipython2",
   "version": "2.7.14"
  }
 },
 "nbformat": 4,
 "nbformat_minor": 1
}
